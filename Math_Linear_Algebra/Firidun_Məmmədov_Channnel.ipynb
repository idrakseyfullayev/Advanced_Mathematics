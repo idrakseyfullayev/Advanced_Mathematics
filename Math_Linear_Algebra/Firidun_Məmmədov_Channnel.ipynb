{
 "cells": [
  {
   "cell_type": "markdown",
   "id": "9808aa74",
   "metadata": {},
   "source": [
    "## Ali Riyaziyyat Firidun_Məmmədov_Channnel"
   ]
  },
  {
   "cell_type": "markdown",
   "id": "0b2f2a08",
   "metadata": {},
   "source": [
    "https://www.youtube.com/watch?v=RSvycspUXPs&list=PLgg1JLk-KRPxhy2LMDgm-ep10WiUfIle5&index=3"
   ]
  },
  {
   "cell_type": "markdown",
   "id": "2b49a13e",
   "metadata": {},
   "source": [
    "**Riyaziyyat Dərs 12(Funksiyalar və qrafiklər) [1ci Hissə]  +**"
   ]
  },
  {
   "cell_type": "markdown",
   "id": "d0a7b295",
   "metadata": {},
   "source": [
    "**Riyaziyyat Dərs 13(Funksiyalar və qrafiklər)[2ci hissə] +**"
   ]
  },
  {
   "cell_type": "markdown",
   "id": "4e255c16",
   "metadata": {},
   "source": [
    "**Ali Riyaziyyat Dərs 1(Matrislər və Determinantlar)[l hissə] +**"
   ]
  },
  {
   "cell_type": "markdown",
   "id": "78b03aba",
   "metadata": {},
   "source": [
    "**Ali Riyaziyyat Dərs 2(İbtidai funksiya və qeyri-müəyyən inteqral,inteqrallama üsulları)+**"
   ]
  },
  {
   "cell_type": "markdown",
   "id": "9d1f4df6",
   "metadata": {},
   "source": [
    "**Ali Riyaziyyat Dərs 3(Müəyyən inteqral, xassələri,həndəsi və iqtisadi mənası. İnteqrallama üsulları)+**"
   ]
  },
  {
   "cell_type": "markdown",
   "id": "e0b81da2",
   "metadata": {},
   "source": [
    "**Ali Riyaziyyat(Həmdə orta məktəb) Dərs 14[Funksiyanın limiti.Sol və Sağ limitlər. Görkəmli limitlər] +**"
   ]
  },
  {
   "cell_type": "markdown",
   "id": "c95b3ea5",
   "metadata": {},
   "source": [
    "**Ali Riyaziyyat(Həmdə orta məktəb) Dərs 15[Funksiyanın törəməsi, yüksək tərtibli törəmələr] +**"
   ]
  },
  {
   "cell_type": "markdown",
   "id": "07b03421",
   "metadata": {},
   "source": [
    "**Ali Riyaziyyat Dərs 16(Funksiyanın diferensialı. Diferensial hesabının əsas teoremləri) +**"
   ]
  },
  {
   "cell_type": "markdown",
   "id": "243a6ba1",
   "metadata": {},
   "source": [
    "**Ali Riyaziyyat Dərs 17(Qeyri müəyyənliklərin açılışı, Lopital qaydası) +**"
   ]
  },
  {
   "cell_type": "markdown",
   "id": "ff9a454f",
   "metadata": {},
   "source": [
    "**Ali Riyaziyyat Dərs 18(İkidəyişənli funksiyanın limiti, xüsusi törəmələri və tam diferensialı) +**"
   ]
  },
  {
   "cell_type": "markdown",
   "id": "791835a4",
   "metadata": {},
   "source": [
    "**Ali Riyaziyyat Dərs 19(Qeyri-aşkar funksiyanın törəməsi.İstiqamət üzrə törəmə və qradiyent) +**"
   ]
  },
  {
   "cell_type": "markdown",
   "id": "e826000a",
   "metadata": {},
   "source": [
    "**Ali Riyaziyyat[Həmdə Orta Məktəb] Dərs 20(Müəyyən İnteqralın bəzi tətbiqləri) --**"
   ]
  },
  {
   "cell_type": "markdown",
   "id": "67c27477",
   "metadata": {},
   "source": [
    "**Ali Riyaziyyat Dərs 21(1ci və 2ci növ qeyri-məxsusi inteqrallar) --**"
   ]
  },
  {
   "cell_type": "markdown",
   "id": "d106ee3b",
   "metadata": {},
   "source": [
    "**Ali Riyaziyyat Dərs 22(Xətti Cəbri Tənliklər sisteminin həll üsulları)[ 1 hissə] +**"
   ]
  },
  {
   "cell_type": "markdown",
   "id": "da581653",
   "metadata": {},
   "source": [
    "**Ali Riyaziyyat Dərs 23(Xətti Cəbri Tənliklər sisteminin həll üsulları) [ll hissə] +**"
   ]
  },
  {
   "cell_type": "markdown",
   "id": "93cbd1bf",
   "metadata": {},
   "source": [
    "**Ali Riyaziyyat Dərs 24(Matrislər və determinantlar)[ll hissə]**"
   ]
  },
  {
   "cell_type": "code",
   "execution_count": null,
   "id": "b39370ef",
   "metadata": {},
   "outputs": [],
   "source": []
  }
 ],
 "metadata": {
  "kernelspec": {
   "display_name": "Python 3 (ipykernel)",
   "language": "python",
   "name": "python3"
  },
  "language_info": {
   "codemirror_mode": {
    "name": "ipython",
    "version": 3
   },
   "file_extension": ".py",
   "mimetype": "text/x-python",
   "name": "python",
   "nbconvert_exporter": "python",
   "pygments_lexer": "ipython3",
   "version": "3.11.5"
  }
 },
 "nbformat": 4,
 "nbformat_minor": 5
}
